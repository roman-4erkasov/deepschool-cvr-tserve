{
 "cells": [
  {
   "cell_type": "code",
   "execution_count": 1,
   "id": "00d48f3f-9317-4a1b-83dc-5096a83dad78",
   "metadata": {},
   "outputs": [],
   "source": [
    "from workflow_archiver.workflow_packaging import package_workflow\n",
    "from workflow_archiver.workflow_packaging_utils import WorkflowExportUtils\n",
    "from workflow_archiver.workflow_archiver_error import WorkflowArchiverError\n",
    "\n",
    "from argparse import Namespace\n"
   ]
  },
  {
   "cell_type": "code",
   "execution_count": 2,
   "id": "519ea9e4-9dd4-4fb3-b37d-c4c016cb32e3",
   "metadata": {},
   "outputs": [],
   "source": [
    "workflow_spec_file = \"../src/workflow.yaml\"\n",
    "workflow_name = \"wf\"\n",
    "handler = \"../src/wf_handler.py\"\n",
    "export_file_path = \"../mar_files/\"\n",
    "extra_files = None"
   ]
  },
  {
   "cell_type": "code",
   "execution_count": 3,
   "id": "fe041211-cae6-42aa-a0e0-999ecedd712e",
   "metadata": {},
   "outputs": [],
   "source": [
    "WorkflowExportUtils.validate_inputs(workflow_name, export_file_path)"
   ]
  },
  {
   "cell_type": "code",
   "execution_count": 4,
   "id": "066009fc-14e0-4dc6-9638-4ef2567e1b79",
   "metadata": {},
   "outputs": [],
   "source": [
    "args = Namespace(\n",
    "    **dict(\n",
    "        spec_file=workflow_spec_file,\n",
    "        workflow_name=workflow_name,\n",
    "        handler=handler,\n",
    "        export_path=export_file_path,\n",
    "        extra_files=extra_files,\n",
    "        force=False\n",
    "    )\n",
    ")\n",
    "manifest = WorkflowExportUtils.generate_manifest_json(args)\n",
    "package_workflow(args, manifest=manifest)\n"
   ]
  },
  {
   "cell_type": "code",
   "execution_count": null,
   "id": "d61cbe1c-6bbc-4b63-8ad2-278b7686e16a",
   "metadata": {},
   "outputs": [],
   "source": []
  },
  {
   "cell_type": "code",
   "execution_count": null,
   "id": "b1ac0169-41a9-443d-a822-6dff27e12433",
   "metadata": {},
   "outputs": [],
   "source": []
  },
  {
   "cell_type": "code",
   "execution_count": null,
   "id": "9e4d00c9-f679-47f1-8969-14f36a5600eb",
   "metadata": {},
   "outputs": [],
   "source": []
  },
  {
   "cell_type": "code",
   "execution_count": null,
   "id": "483afabb-9fe8-45b1-ad8a-8b979c8e6c7b",
   "metadata": {},
   "outputs": [],
   "source": []
  },
  {
   "cell_type": "code",
   "execution_count": null,
   "id": "f8177a79-1c91-4001-bde0-2067da6df760",
   "metadata": {},
   "outputs": [],
   "source": []
  },
  {
   "cell_type": "code",
   "execution_count": null,
   "id": "2a261a40-8448-4f68-9968-a952e729ec8e",
   "metadata": {},
   "outputs": [],
   "source": []
  },
  {
   "cell_type": "code",
   "execution_count": 15,
   "id": "5695ff69-7e5f-4090-bae2-4c5501dbb0e6",
   "metadata": {},
   "outputs": [],
   "source": [
    "manifest = WorkflowExportUtils.generate_manifest_json(\n",
    "    Namespace(\n",
    "        **dict(\n",
    "            spec_file=workflow_spec_file,\n",
    "            workflow_name=workflow_name,\n",
    "            handler=handler,\n",
    "            export_file_path=export_file_path,\n",
    "            extra_files=extra_files,\n",
    "        )\n",
    "    )\n",
    ")\n"
   ]
  },
  {
   "cell_type": "code",
   "execution_count": 16,
   "id": "d7a610a7-c3fa-48ea-9307-9415f1c20825",
   "metadata": {},
   "outputs": [],
   "source": [
    "export_file_path = WorkflowExportUtils.check_war_already_exists(workflow_name, export_file_path, False)\n",
    "\n",
    "# Step 2 : Copy all artifacts to temp directory\n",
    "artifact_files = [workflow_spec_file, handler, extra_files]\n",
    "\n",
    "workflow_path = WorkflowExportUtils.copy_artifacts(workflow_name, artifact_files)\n",
    "\n",
    "# Step 2 : Zip 'em all up\n",
    "WorkflowExportUtils.archive(export_file_path, workflow_name, workflow_path, manifest)\n"
   ]
  },
  {
   "cell_type": "code",
   "execution_count": null,
   "id": "dce29542-171f-4b98-9047-ef489eedb2d6",
   "metadata": {},
   "outputs": [],
   "source": []
  }
 ],
 "metadata": {
  "kernelspec": {
   "display_name": "Python 3 (ipykernel)",
   "language": "python",
   "name": "python3"
  },
  "language_info": {
   "codemirror_mode": {
    "name": "ipython",
    "version": 3
   },
   "file_extension": ".py",
   "mimetype": "text/x-python",
   "name": "python",
   "nbconvert_exporter": "python",
   "pygments_lexer": "ipython3",
   "version": "3.10.6"
  }
 },
 "nbformat": 4,
 "nbformat_minor": 5
}
