{
 "cells": [
  {
   "cell_type": "code",
   "execution_count": null,
   "id": "cf9f308e-c9ed-4f93-8c87-3175425fe099",
   "metadata": {},
   "outputs": [],
   "source": [
    "import os\n",
    "import torch as th\n",
    "from ultralytics import YOLO\n"
   ]
  },
  {
   "cell_type": "code",
   "execution_count": null,
   "id": "7facefb9-1123-468b-a86e-f1f5b0f9563f",
   "metadata": {},
   "outputs": [],
   "source": [
    "class DetectHandler(object):\n",
    "\n",
    "    def __init__(self):\n",
    "        self._context = None\n",
    "        self.initialized = False\n",
    "        self.model = None\n",
    "        self.device = None\n",
    "    \n",
    "    def initialize(self, context):\n",
    "        self.manifest = context.manifest\n",
    "        properties = context.system_properties\n",
    "        model_dir = properties.get(\"model_dir\")\n",
    "        self.device = th.device(\"cpu\")\n",
    "\n",
    "        # Read model serialize/pt file\n",
    "        serialized_file = self.manifest['model']['serializedFile']\n",
    "        model_pt_path = os.path.join(model_dir, serialized_file)\n",
    "        if not os.path.isfile(model_pt_path):\n",
    "            raise RuntimeError(\"Missing the model.pt file\")\n",
    "\n",
    "        self.model = th.jit.load(model_pt_path)\n",
    "        # TODO: \n",
    "        #   this implementation can be not fast enough\n",
    "        #   for more performance try https://github.com/louisoutin/yolov5_torchserve\n",
    "        self.model = YOLO(\n",
    "            model_pt_path,  # \"../weights/detect.torchscript\"\n",
    "            task=\"detect\"\n",
    "        )\n",
    "        self.initialized = True\n",
    "        \n",
    "\n",
    "    \n",
    "    def handle(self, data, context):\n",
    "        \"\"\"\n",
    "        Invoke by TorchServe for prediction request.\n",
    "        Do pre-processing of data, prediction using model and postprocessing of prediciton output\n",
    "        :param data: Input data for prediction\n",
    "        :param context: Initial context contains model server system properties.\n",
    "        :return: prediction output\n",
    "        \"\"\"\n",
    "        result = []\n",
    "        boxes = [[int(x) for x in box] for box in data[0].boxes.data.tolist()]\n",
    "        for box in boxes:\n",
    "            box_image = data.orig_img[boxes[ibox][1]:boxes[ibox][3], boxes[ibox][0]:boxes[ibox][2],:]\n",
    "            box_image = box_image / 255.0\n",
    "            box_image = th.FloatTensor(box_image).permute(2, 0, 1)\n",
    "            pred_out = self.model(box_image).argmax(2).T.tolist()\n",
    "            result.append(pred_out)\n",
    "        return pred_out"
   ]
  },
  {
   "cell_type": "code",
   "execution_count": null,
   "id": "dd45aa47-b069-4862-9ccf-d3d9bf56f094",
   "metadata": {},
   "outputs": [],
   "source": [
    "class DetectContext:\n",
    "    def __init__(self):\n",
    "        self.manifest = {\n",
    "            \"model\": {\n",
    "                \"serializedFile\": \"detect.torchscript\"\n",
    "            }\n",
    "        }\n",
    "        self.system_properties = {\"model_dir\": \"../weights/\"}"
   ]
  },
  {
   "cell_type": "code",
   "execution_count": null,
   "id": "1fbab2b2-017a-4272-a6fa-d21889d2c671",
   "metadata": {},
   "outputs": [],
   "source": [
    "detect = DetectHandler()\n",
    "det_ctx = DetectContext()\n",
    "detect.initialize(det_ctx)"
   ]
  },
  {
   "cell_type": "code",
   "execution_count": null,
   "id": "69c5d5b0-3f0d-449d-9ab7-7080fe16748f",
   "metadata": {},
   "outputs": [],
   "source": []
  }
 ],
 "metadata": {
  "kernelspec": {
   "display_name": "Python 3 (ipykernel)",
   "language": "python",
   "name": "python3"
  },
  "language_info": {
   "codemirror_mode": {
    "name": "ipython",
    "version": 3
   },
   "file_extension": ".py",
   "mimetype": "text/x-python",
   "name": "python",
   "nbconvert_exporter": "python",
   "pygments_lexer": "ipython3",
   "version": "3.10.6"
  }
 },
 "nbformat": 4,
 "nbformat_minor": 5
}
