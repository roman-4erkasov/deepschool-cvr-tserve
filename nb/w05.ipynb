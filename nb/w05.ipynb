{
 "cells": [
  {
   "cell_type": "code",
   "execution_count": 1,
   "id": "a8e27f80-b3c6-4e72-8755-1542bbb1583c",
   "metadata": {},
   "outputs": [],
   "source": [
    "import requests"
   ]
  },
  {
   "cell_type": "code",
   "execution_count": 3,
   "id": "54a63c4e-60c5-4998-b48b-848292caf772",
   "metadata": {},
   "outputs": [],
   "source": [
    "health_check_addr = \"http://127.0.0.1:8080/ping\""
   ]
  },
  {
   "cell_type": "code",
   "execution_count": 4,
   "id": "95fe0fc4-2790-47d8-bb7d-4927ab6eec28",
   "metadata": {},
   "outputs": [],
   "source": [
    "result = requests.get(health_check_addr)"
   ]
  },
  {
   "cell_type": "code",
   "execution_count": 8,
   "id": "0d783589-1ed1-4b52-a720-e3ee7c0d4c51",
   "metadata": {},
   "outputs": [
    {
     "data": {
      "text/plain": [
       "'{\\n  \"status\": \"Healthy\"\\n}\\n'"
      ]
     },
     "execution_count": 8,
     "metadata": {},
     "output_type": "execute_result"
    }
   ],
   "source": [
    "result.text"
   ]
  },
  {
   "cell_type": "code",
   "execution_count": 10,
   "id": "01d433d9-3f7e-4a7d-8f0b-55ed92915124",
   "metadata": {},
   "outputs": [
    {
     "data": {
      "text/plain": [
       "'123'"
      ]
     },
     "execution_count": 10,
     "metadata": {},
     "output_type": "execute_result"
    }
   ],
   "source": [
    "import re\n",
    "re.sub(r'([0-9\\_])\\1+', r'\\1', \"112_33\").replace(\"_\",\"\")"
   ]
  },
  {
   "cell_type": "code",
   "execution_count": null,
   "id": "1b3be1df-58e6-49b3-9a55-61ac3ba133a4",
   "metadata": {},
   "outputs": [],
   "source": []
  }
 ],
 "metadata": {
  "kernelspec": {
   "display_name": "Python 3 (ipykernel)",
   "language": "python",
   "name": "python3"
  },
  "language_info": {
   "codemirror_mode": {
    "name": "ipython",
    "version": 3
   },
   "file_extension": ".py",
   "mimetype": "text/x-python",
   "name": "python",
   "nbconvert_exporter": "python",
   "pygments_lexer": "ipython3",
   "version": "3.10.6"
  }
 },
 "nbformat": 4,
 "nbformat_minor": 5
}
