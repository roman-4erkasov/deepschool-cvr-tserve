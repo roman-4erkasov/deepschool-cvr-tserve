{
 "cells": [
  {
   "cell_type": "code",
   "execution_count": 3,
   "id": "c4066d1b-43c0-4c16-95df-407aa000270f",
   "metadata": {},
   "outputs": [],
   "source": [
    "import base64\n",
    "import json"
   ]
  },
  {
   "cell_type": "code",
   "execution_count": 25,
   "id": "bac4b673-804a-4717-b6f7-80d1e2c46217",
   "metadata": {},
   "outputs": [
    {
     "data": {
      "text/plain": [
       "('eyJhIjogMTIzfQ==', {'a': 123})"
      ]
     },
     "execution_count": 25,
     "metadata": {},
     "output_type": "execute_result"
    }
   ],
   "source": [
    "data = base64.urlsafe_b64encode(json.dumps({'a': 123}).encode()).decode()\n",
    "\n",
    "data2 = json.loads(base64.urlsafe_b64decode(data).decode())\n",
    "\n",
    "data, data2\n"
   ]
  },
  {
   "cell_type": "code",
   "execution_count": 16,
   "id": "c302e8d8-a149-4a8d-aa04-3dc3e06f46cb",
   "metadata": {},
   "outputs": [
    {
     "data": {
      "text/plain": [
       "bytearray"
      ]
     },
     "execution_count": 16,
     "metadata": {},
     "output_type": "execute_result"
    }
   ],
   "source": [
    "type(bytearray(data))"
   ]
  },
  {
   "cell_type": "code",
   "execution_count": 3,
   "id": "468dd4c7-c502-4c90-b709-242cd41869a9",
   "metadata": {},
   "outputs": [],
   "source": [
    "import cv2"
   ]
  },
  {
   "cell_type": "code",
   "execution_count": null,
   "id": "42088a43-cebd-4ce3-a328-f924fce709d3",
   "metadata": {},
   "outputs": [],
   "source": [
    "curl -X POST 'http://127.0.0.1:8081/models?url=http://filebrowser/files/mar_files/wf.war&batch_size=2&initial_workers=1&max_batch_delay=50'\n",
    "\n"
   ]
  },
  {
   "cell_type": "raw",
   "id": "8a52682a-996c-4f2f-9ebc-fbd086bc39eb",
   "metadata": {},
   "source": [
    "curl http://localhost:8081/models\n",
    "\n",
    "fatuus@ubuntu-ds:~/deepschool-cvr-tserve$ curl -X DELETE http://localhost:8081/models/detect\n",
    "{\n",
    "  \"status\": \"Model \\\"detect\\\" unregistered\"\n",
    "}\n",
    "fatuus@ubuntu-ds:~/deepschool-cvr-tserve$ make detection_mar\n",
    "PYTHONPATH=. python src/torch2mar.py \\\n",
    "  --src weights/tscript/detect.pt \\\n",
    "  --dst mar_files/ \\\n",
    "  --name detect\n",
    "fatuus@ubuntu-ds:~/deepschool-cvr-tserve$ curl -X POST 'http://127.0.0.1:8081/models?url=http://filebrowser/files/mar_files/detect.mar&batch_size=2&initial_workers=1&max_batch_delay=50'\n",
    "{\n",
    "  \"status\": \"Model \\\"detect\\\" Version: 1.0 registered with 1 initial workers\"\n",
    "}\n",
    "fatuus@ubuntu-ds:~/deepschool-cvr-tserve$ curl -X POST http://127.0.0.1:8080/predictions/detect -T barcode01.jpg \n",
    "{\n",
    "  \"code\": 503,\n",
    "  \"type\": \"InternalServerException\",\n",
    "  \"message\": \"Prediction failed\"\n",
    "}\n",
    "fatuus@ubuntu-ds:~/deepschool-cvr-tserve$"
   ]
  },
  {
   "cell_type": "code",
   "execution_count": null,
   "id": "26cb6a91-9513-4225-a560-045c60b13897",
   "metadata": {},
   "outputs": [],
   "source": [
    "curl -X POST 'http://127.0.0.1:8081/workflows?url=http://filebrowser/files/mar_files/wf.war&batch_size=2&initial_workers=1&max_batch_delay=50'\n"
   ]
  },
  {
   "cell_type": "code",
   "execution_count": null,
   "id": "c2c12705-f501-4586-9269-f2780c9e4dfd",
   "metadata": {},
   "outputs": [],
   "source": [
    "curl -X POST 'http://127.0.0.1:8081/models?url=http://filebrowser/files/mar_files/ocr.mar&batch_size=2&initial_workers=1&max_batch_delay=50'\n",
    "curl -X POST 'http://127.0.0.1:8081/models?url=http://filebrowser/files/mar_files/detect.mar&batch_size=2&initial_workers=1&max_batch_delay=50'\n",
    "curl -X POST 'http://127.0.0.1:8081/workflows?url=http://filebrowser/files/mar_files/wf.war&batch_size=2&initial_workers=1&max_batch_delay=50'\n",
    "\n"
   ]
  },
  {
   "cell_type": "code",
   "execution_count": null,
   "id": "67603281-6886-4908-a74d-b272a5585556",
   "metadata": {},
   "outputs": [],
   "source": []
  },
  {
   "cell_type": "code",
   "execution_count": 26,
   "id": "c8ae9ead-c4e1-4dda-8be8-2c6ae3ed6a42",
   "metadata": {},
   "outputs": [],
   "source": [
    "import matplotlib.pyplot as plt"
   ]
  },
  {
   "cell_type": "markdown",
   "id": "073a9796-6596-403f-bd88-a6f76ccf3486",
   "metadata": {},
   "source": [
    "# 1. Detection"
   ]
  },
  {
   "cell_type": "code",
   "execution_count": 27,
   "id": "e4f2c53e-a731-4ccd-8fb9-45c17f085535",
   "metadata": {},
   "outputs": [],
   "source": [
    "import cv2\n",
    "from ultralytics import YOLO"
   ]
  },
  {
   "cell_type": "code",
   "execution_count": 84,
   "id": "f4095f22-a28c-4837-a05a-9eaf651f3d1f",
   "metadata": {},
   "outputs": [],
   "source": [
    "image = cv2.imread(\"../barcode01.jpg\")"
   ]
  },
  {
   "cell_type": "code",
   "execution_count": 29,
   "id": "9678c856-787d-402d-97cb-eeb77dd0de34",
   "metadata": {},
   "outputs": [
    {
     "data": {
      "text/plain": [
       "(1333, 1000, 3)"
      ]
     },
     "execution_count": 29,
     "metadata": {},
     "output_type": "execute_result"
    }
   ],
   "source": [
    "image.shape"
   ]
  },
  {
   "cell_type": "code",
   "execution_count": 30,
   "id": "f8ecf3a7-f3f9-4b0a-9bc4-735c4bd4e402",
   "metadata": {},
   "outputs": [],
   "source": [
    "model = YOLO(\"../weights/tscript/detect.torchscript\", task=\"detect\")"
   ]
  },
  {
   "cell_type": "code",
   "execution_count": 31,
   "id": "ae21ec0d-8645-4568-b2d3-8da4daef17ae",
   "metadata": {},
   "outputs": [
    {
     "name": "stderr",
     "output_type": "stream",
     "text": [
      "Loading ../weights/tscript/detect.torchscript for TorchScript inference...\n",
      "\n",
      "0: 640x640 1 barcode, 1857.1ms\n",
      "Speed: 457.8ms preprocess, 1857.1ms inference, 387.5ms postprocess per image at shape (1, 3, 640, 640)\n"
     ]
    }
   ],
   "source": [
    "det_results = model(image)"
   ]
  },
  {
   "cell_type": "code",
   "execution_count": 32,
   "id": "a1692b17-4d2d-4b1f-9ec0-f934eae04990",
   "metadata": {},
   "outputs": [
    {
     "data": {
      "text/plain": [
       "[[211, 477, 620, 776, 0, 0]]"
      ]
     },
     "execution_count": 32,
     "metadata": {},
     "output_type": "execute_result"
    }
   ],
   "source": [
    "boxes = [[int(x) for x in box] for box in det_results[0].boxes.data.tolist()]\n",
    "\n",
    "boxes"
   ]
  },
  {
   "cell_type": "code",
   "execution_count": 33,
   "id": "35e7618d-bcb4-4982-95f8-49ca75f924c0",
   "metadata": {},
   "outputs": [],
   "source": [
    "boxes = [[\n",
    "    int(x) for x in \n",
    "    [\n",
    "      213.8890838623047,\n",
    "      476.31890869140625,\n",
    "      619.4435424804688,\n",
    "      775.7311401367188,\n",
    "    ]\n",
    "]]"
   ]
  },
  {
   "cell_type": "code",
   "execution_count": 34,
   "id": "19a08513-96fd-44ce-b623-8854de0228b6",
   "metadata": {},
   "outputs": [
    {
     "data": {
      "text/plain": [
       "[213, 476, 619, 775]"
      ]
     },
     "execution_count": 34,
     "metadata": {},
     "output_type": "execute_result"
    }
   ],
   "source": [
    "boxes[0]"
   ]
  },
  {
   "cell_type": "code",
   "execution_count": 71,
   "id": "7d753e7c-6b02-4715-8211-cf9d60609ace",
   "metadata": {},
   "outputs": [],
   "source": [
    "# ibox =0\n",
    "# _=image[boxes[ibox][1]:boxes[ibox][3], boxes[ibox][0]:boxes[ibox][2],:]"
   ]
  },
  {
   "cell_type": "code",
   "execution_count": 72,
   "id": "b98338ee-4bb5-4cd6-b4a4-4c6097952d67",
   "metadata": {},
   "outputs": [],
   "source": [
    "# ibox = 0\n",
    "# plt.imshow(image[boxes[ibox][1]:boxes[ibox][3], boxes[ibox][0]:boxes[ibox][2],:])"
   ]
  },
  {
   "cell_type": "code",
   "execution_count": 73,
   "id": "e44e68ee-1909-4f36-b4c4-0ef86db5ef82",
   "metadata": {},
   "outputs": [],
   "source": [
    "# plt.imshow(det_results[0].orig_img)"
   ]
  },
  {
   "cell_type": "markdown",
   "id": "5c4055c0-3b67-42ff-9195-be6e7f564481",
   "metadata": {},
   "source": [
    "# 2. OCR"
   ]
  },
  {
   "cell_type": "code",
   "execution_count": 75,
   "id": "11dc8975-e200-4013-baa7-703d6762fecb",
   "metadata": {},
   "outputs": [
    {
     "data": {
      "text/plain": [
       "(3, 299, 406)"
      ]
     },
     "execution_count": 75,
     "metadata": {},
     "output_type": "execute_result"
    }
   ],
   "source": [
    "3, 299, 406"
   ]
  },
  {
   "cell_type": "code",
   "execution_count": 76,
   "id": "f46288d0-6bc2-40e1-b9dd-3a05a8695951",
   "metadata": {},
   "outputs": [],
   "source": [
    "import torch as th"
   ]
  },
  {
   "cell_type": "code",
   "execution_count": 82,
   "id": "4cbf30fe-5b2d-4de9-9ade-3779167abcd6",
   "metadata": {},
   "outputs": [],
   "source": [
    "model2 = th.jit.load(\"../weights/tscript/ocr.pt\")\n",
    "_=model2.eval()"
   ]
  },
  {
   "cell_type": "code",
   "execution_count": 78,
   "id": "ef679309-2a62-4a14-ab4f-4fc07f20a3b5",
   "metadata": {},
   "outputs": [],
   "source": [
    "for box in boxes:\n",
    "    pass"
   ]
  },
  {
   "cell_type": "code",
   "execution_count": 85,
   "id": "b977edf0-f802-4a1b-a72c-2feb072d5ed5",
   "metadata": {},
   "outputs": [],
   "source": [
    "# plt.imshow(image[box[1]:box[3], box[0]:box[2],:])\n",
    "box_image = image[box[1]:box[3], box[0]:box[2],:]"
   ]
  },
  {
   "cell_type": "code",
   "execution_count": 86,
   "id": "611a9cdf-385f-4459-9602-69a3267cfdc3",
   "metadata": {},
   "outputs": [
    {
     "data": {
      "text/plain": [
       "torch.Size([3, 1333, 1000])"
      ]
     },
     "execution_count": 86,
     "metadata": {},
     "output_type": "execute_result"
    }
   ],
   "source": [
    "box_image = box_image / 255.0\n",
    "box_image = th.FloatTensor(image).permute(2, 0, 1)\n",
    "box_image.shape\n"
   ]
  },
  {
   "cell_type": "code",
   "execution_count": 89,
   "id": "92f08488-f950-4079-a378-b59f6fb04012",
   "metadata": {},
   "outputs": [],
   "source": [
    "image2 = th.FloatTensor(cv2.imread(\"./barcode.png\")/ 255.0).permute(2, 0, 1)"
   ]
  },
  {
   "cell_type": "code",
   "execution_count": 90,
   "id": "6bee721f-0e9d-4d53-a139-20b8e552df65",
   "metadata": {},
   "outputs": [],
   "source": [
    "_=model2(image2.unsqueeze(0)).argmax(2).T.tolist()"
   ]
  },
  {
   "cell_type": "code",
   "execution_count": 91,
   "id": "ac1e6863-34b1-4d26-8206-3482be1660a2",
   "metadata": {},
   "outputs": [
    {
     "data": {
      "text/plain": [
       "torch.Size([3, 280, 523])"
      ]
     },
     "execution_count": 91,
     "metadata": {},
     "output_type": "execute_result"
    }
   ],
   "source": [
    "image2.shape"
   ]
  },
  {
   "cell_type": "code",
   "execution_count": 62,
   "id": "a76a8028-ac04-4439-9e8a-1d4bd26f561f",
   "metadata": {},
   "outputs": [
    {
     "data": {
      "text/plain": [
       "torch.Size([3, 1333, 1000])"
      ]
     },
     "execution_count": 62,
     "metadata": {},
     "output_type": "execute_result"
    }
   ],
   "source": [
    "box_image.shape"
   ]
  },
  {
   "cell_type": "code",
   "execution_count": 52,
   "id": "32085bab-8971-4e7f-a292-c8f8bb4a76e2",
   "metadata": {},
   "outputs": [],
   "source": [
    "# box_image_2 = th.rand(3, 299, 406)\n",
    "box_image_2 = th.rand(3, 1000, 1000)"
   ]
  },
  {
   "cell_type": "code",
   "execution_count": 54,
   "id": "cc501b53-639b-42bf-a078-78b00af36646",
   "metadata": {},
   "outputs": [],
   "source": [
    "from torchvision.transforms import Resize"
   ]
  },
  {
   "cell_type": "code",
   "execution_count": 92,
   "id": "85764294-3b38-412e-bed7-4d06bf012761",
   "metadata": {},
   "outputs": [],
   "source": [
    "resize = Resize(size=(280, 523))"
   ]
  },
  {
   "cell_type": "code",
   "execution_count": 93,
   "id": "094bc8d6-97e6-4969-9da3-ea202da847ee",
   "metadata": {},
   "outputs": [
    {
     "name": "stderr",
     "output_type": "stream",
     "text": [
      "/home/fatuus/deepschool-cvr-tserve/venv/lib/python3.10/site-packages/torchvision/transforms/functional.py:1603: UserWarning: The default value of the antialias parameter of all the resizing transforms (Resize(), RandomResizedCrop(), etc.) will change from None to True in v0.17, in order to be consistent across the PIL and Tensor backends. To suppress this warning, directly pass antialias=True (recommended, future default), antialias=None (current default, which means False for Tensors and True for PIL), or antialias=False (only works on Tensors - PIL will still use antialiasing). This also applies if you are using the inference transforms from the models weights: update the call to weights.transforms(antialias=True).\n",
      "  warnings.warn(\n"
     ]
    },
    {
     "data": {
      "text/plain": [
       "torch.Size([3, 280, 523])"
      ]
     },
     "execution_count": 93,
     "metadata": {},
     "output_type": "execute_result"
    }
   ],
   "source": [
    "resize(box_image_2).shape"
   ]
  },
  {
   "cell_type": "code",
   "execution_count": 94,
   "id": "6f6e5969-0438-4f63-944f-01885199f598",
   "metadata": {},
   "outputs": [
    {
     "data": {
      "text/plain": [
       "[[2, 2, 2, 2, 2, 2, 2, 2, 2, 2, 2, 2, 2, 2, 2, 2, 2]]"
      ]
     },
     "execution_count": 94,
     "metadata": {},
     "output_type": "execute_result"
    }
   ],
   "source": [
    "model2(resize(box_image_2).unsqueeze(0)).argmax(2).T.tolist()"
   ]
  },
  {
   "cell_type": "code",
   "execution_count": 48,
   "id": "463b639c-6cea-435d-b6c2-c045f025cbc7",
   "metadata": {},
   "outputs": [
    {
     "data": {
      "text/plain": [
       "<matplotlib.image.AxesImage at 0x7f56f909c2b0>"
      ]
     },
     "execution_count": 48,
     "metadata": {},
     "output_type": "execute_result"
    },
    {
     "data": {
      "image/png": "[encoded data removed]",
      "text/plain": [
       "<Figure size 640x480 with 1 Axes>"
      ]
     },
     "metadata": {},
     "output_type": "display_data"
    }
   ],
   "source": [
    "plt.imshow(image[box[1]:box[3], box[0]:box[2],:])"
   ]
  },
  {
   "cell_type": "code",
   "execution_count": null,
   "id": "df88370e-dc00-46ba-a9cb-65db54d62269",
   "metadata": {},
   "outputs": [],
   "source": []
  }
 ],
 "metadata": {
  "kernelspec": {
   "display_name": "Python 3 (ipykernel)",
   "language": "python",
   "name": "python3"
  },
  "language_info": {
   "codemirror_mode": {
    "name": "ipython",
    "version": 3
   },
   "file_extension": ".py",
   "mimetype": "text/x-python",
   "name": "python",
   "nbconvert_exporter": "python",
   "pygments_lexer": "ipython3",
   "version": "3.10.6"
  }
 },
 "nbformat": 4,
 "nbformat_minor": 5
}
